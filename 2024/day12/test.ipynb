{
 "cells": [
  {
   "cell_type": "code",
   "execution_count": 36,
   "metadata": {},
   "outputs": [
    {
     "name": "stdout",
     "output_type": "stream",
     "text": [
      "1\n"
     ]
    }
   ],
   "source": [
    "def outline_shape(grid, target):\n",
    "    outline_points = []\n",
    "    dirs = [(0,1), (1,0), (0,-1), (-1,0), (1,1), (-1,-1), (1,-1), (-1,1)]\n",
    "    for x in range(len(grid[0])):\n",
    "        for y in range(len(grid)):\n",
    "            if grid[y][x] == target: continue\n",
    "            for dx, dy in dirs:\n",
    "                nx, ny = x + dx, y + dy\n",
    "                if 0 <= nx < len(grid[0]) and 0 <= ny < len(grid):\n",
    "                    if grid[ny][nx] == target:\n",
    "                        grid[y][x] = \"#\"\n",
    "                        outline_points.append((x, y))\n",
    "                        break\n",
    "    return grid, outline_points\n",
    "\n",
    "def get_target_points(g, t):\n",
    "    points = []\n",
    "    for y in range(len(g)):\n",
    "        for x in range(len(g[0])):\n",
    "            if g[y][x] == t:\n",
    "                points.append((x,y))\n",
    "    return points\n",
    "\n",
    "def get_unique_line_segments(points):\n",
    "    line_segments = set()\n",
    "    def slope(p1, p2):\n",
    "        x1, y1 = p1\n",
    "        x2, y2 = p2\n",
    "        if x1 == x2:\n",
    "            return float('inf')\n",
    "        return (y2 - y1) / (x2 - x1)\n",
    "    for i in range(len(points)):\n",
    "        for j in range(i + 1, len(points)):\n",
    "            p1, p2 = points[i], points[j]\n",
    "            segment = tuple(sorted([p1, p2]))\n",
    "            line_segments.add(segment)\n",
    "    return line_segments\n",
    "\n",
    "\n",
    "grid = [\n",
    "    ['.', '.', '.', '.', '.', '.'],\n",
    "    ['.', 'A', 'A', 'C', 'C', '.'],\n",
    "    ['.', 'A', 'A', 'A', 'C', '.'],\n",
    "    ['.', 'B', 'B', 'C', 'C', '.'],\n",
    "    ['.', 'E', 'E', 'E', '.', '.'],\n",
    "    ['.', '.', '.', '.', '.', '.']\n",
    "]\n",
    "\n",
    "points = get_target_points(grid, \"B\")\n",
    "line_segments = get_unique_line_segments(points)\n",
    "print(len(line_segments))\n",
    "\n"
   ]
  },
  {
   "cell_type": "code",
   "execution_count": null,
   "metadata": {},
   "outputs": [],
   "source": [
    "grid = [\n",
    "    ['#', '#', '#', '#', '#', '.'],\n",
    "    ['#', 'A', 'A', 'A', '#', '.'],\n",
    "    ['#', 'A', 'A', 'A', '#', '.'],\n",
    "    ['#', '#', '#', '#', '#', '.'],\n",
    "    ['.', 'E', 'E', 'E', '.', '.'],\n",
    "    ['.', '.', '.', '.', '.', '.']\n",
    "]"
   ]
  }
 ],
 "metadata": {
  "kernelspec": {
   "display_name": "Python 3",
   "language": "python",
   "name": "python3"
  },
  "language_info": {
   "codemirror_mode": {
    "name": "ipython",
    "version": 3
   },
   "file_extension": ".py",
   "mimetype": "text/x-python",
   "name": "python",
   "nbconvert_exporter": "python",
   "pygments_lexer": "ipython3",
   "version": "3.11.5"
  }
 },
 "nbformat": 4,
 "nbformat_minor": 2
}
