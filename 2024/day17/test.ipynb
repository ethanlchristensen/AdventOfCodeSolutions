{
 "cells": [
  {
   "cell_type": "code",
   "execution_count": 20,
   "metadata": {},
   "outputs": [],
   "source": [
    "from bruhcolor import bruhcolored as bc\n",
    "def process(number):\n",
    "    r = {\"A\": number, \"B\": 0, \"C\": 0}\n",
    "    output = []\n",
    "    while r[\"A\"] != 0:\n",
    "        r[\"B\"] = r[\"A\"] % 8\n",
    "        r[\"B\"] = r[\"B\"] ^ 3\n",
    "        r[\"C\"] = r[\"A\"] >> r[\"B\"]\n",
    "        r[\"B\"] = r[\"B\"] ^ 5\n",
    "        r[\"A\"] = r[\"A\"] >> 3\n",
    "        r[\"B\"] = r[\"B\"] ^ r[\"C\"]\n",
    "        output.append(r[\"B\"] % 8)\n",
    "    return output\n",
    "\n",
    "def convert_list_to_binary_int(numbers):\n",
    "    binary_segments = [format(num, '03b') for num in numbers]\n",
    "    concatenated_binary = ''.join(binary_segments)\n",
    "    result_int = int(concatenated_binary, 2)\n",
    "    return result_int\n",
    "\n",
    "def convert_int_to_grouped_numbers(n):\n",
    "    binary_str = bin(n)[2:]\n",
    "    while len(binary_str) % 3 != 0:\n",
    "        binary_str = '0' + binary_str\n",
    "    groups_of_three = [binary_str[i:i+3] for i in range(0, len(binary_str), 3)]\n",
    "    numbers = [int(group, 2) for group in groups_of_three]\n",
    "    return numbers"
   ]
  },
  {
   "cell_type": "code",
   "execution_count": 26,
   "metadata": {},
   "outputs": [
    {
     "name": "stdout",
     "output_type": "stream",
     "text": [
      "\n",
      "[2, 4, 1, 3, 7, 5, 1, 5, 0, 3, 4, 1, 5, 5, 3, 0]\n",
      "[6, 6, 6, 6, 6, 6, 4, 1, 6, 3, 4, 1, 5, 5, 3, 0]\n"
     ]
    }
   ],
   "source": [
    "program = [2,4,1,3,7,5,1,5,0,3,4,1,5,5,3,0]\n",
    "pieces = [6, 1, 1, 7, 1, 5, 6, 3, 2]\n",
    "# pieces = [0, 0, 0, 0, 0, 0, 0, 0]\n",
    "current_idx = len(pieces)\n",
    "for _ in range(len(program) - len(pieces)):\n",
    "    pieces.append(0)\n",
    "\n",
    "number = convert_list_to_binary_int(pieces)\n",
    "result = process(number)\n",
    "print()\n",
    "print(program)\n",
    "print(result)"
   ]
  },
  {
   "cell_type": "code",
   "execution_count": 17,
   "metadata": {},
   "outputs": [
    {
     "name": "stdout",
     "output_type": "stream",
     "text": [
      "[2, 4, 1, 3, 7, 5, 1, 5, 0, 3, 4, 1, 5, 5, 3, 0]\n",
      "[2, 4, 1, 3, 7, 5, 1, 5, 0, 3, 4, 1, 5, 5, 3, 0]\n"
     ]
    }
   ],
   "source": [
    "print(program)\n",
    "print(process(216549846240877))"
   ]
  },
  {
   "cell_type": "code",
   "execution_count": 21,
   "metadata": {},
   "outputs": [
    {
     "name": "stdout",
     "output_type": "stream",
     "text": [
      "[6, 5, 1, 1, 2, 0, 7, 3, 2, 0, 0, 0, 0, 0, 0, 0]\n",
      "[6, 1, 1, 7, 1, 5, 6, 0, 5, 2, 2, 4, 7, 1, 5, 5]\n"
     ]
    }
   ],
   "source": [
    "a = 233733114298368\n",
    "b = 216549846240877\n",
    "\n",
    "print(convert_int_to_grouped_numbers(a))\n",
    "print(convert_int_to_grouped_numbers(b))"
   ]
  }
 ],
 "metadata": {
  "kernelspec": {
   "display_name": "Python 3",
   "language": "python",
   "name": "python3"
  },
  "language_info": {
   "codemirror_mode": {
    "name": "ipython",
    "version": 3
   },
   "file_extension": ".py",
   "mimetype": "text/x-python",
   "name": "python",
   "nbconvert_exporter": "python",
   "pygments_lexer": "ipython3",
   "version": "3.11.5"
  }
 },
 "nbformat": 4,
 "nbformat_minor": 2
}
